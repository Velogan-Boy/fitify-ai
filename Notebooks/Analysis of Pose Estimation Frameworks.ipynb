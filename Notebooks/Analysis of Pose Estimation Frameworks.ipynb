{
  "cells": [
    {
      "cell_type": "markdown",
      "id": "9b9dc814",
      "metadata": {},
      "source": [
        "# Human Pose Estimation using MoveNet"
      ]
    },
    {
      "cell_type": "markdown",
      "id": "44524a97",
      "metadata": {},
      "source": [
        "### Import packages"
      ]
    },
    {
      "cell_type": "code",
      "execution_count": 8,
      "id": "440e5d57",
      "metadata": {},
      "outputs": [],
      "source": [
        "import tensorflow as tf\n",
        "import numpy as np\n",
        "import mediapipe as mp\n",
        "import cv2\n",
        "import time\n",
        "import psutil\n",
        "from line_profiler import LineProfiler"
      ]
    },
    {
      "cell_type": "markdown",
      "id": "8dec096d",
      "metadata": {},
      "source": [
        "### Visualisation Fns"
      ]
    },
    {
      "cell_type": "code",
      "execution_count": 9,
      "id": "664ba209",
      "metadata": {},
      "outputs": [],
      "source": [
        "EDGES = {\n",
        "    (0, 1): 'm',\n",
        "    (0, 2): 'c',\n",
        "    (1, 3): 'm',\n",
        "    (2, 4): 'c',\n",
        "    (0, 5): 'm',\n",
        "    (0, 6): 'c',\n",
        "    (5, 7): 'm',\n",
        "    (7, 9): 'm',\n",
        "    (6, 8): 'c',\n",
        "    (8, 10): 'c',\n",
        "    (5, 6): 'y',\n",
        "    (5, 11): 'm',\n",
        "    (6, 12): 'c',\n",
        "    (11, 12): 'y',\n",
        "    (11, 13): 'm',\n",
        "    (13, 15): 'm',\n",
        "    (12, 14): 'c',\n",
        "    (14, 16): 'c'\n",
        "}"
      ]
    },
    {
      "cell_type": "code",
      "execution_count": 10,
      "id": "c42bb736",
      "metadata": {},
      "outputs": [],
      "source": [
        "def draw_keypoints(frame, keypoints, confidence_threshold):\n",
        "    y, x, c = frame.shape\n",
        "    shaped = np.squeeze(np.multiply(keypoints, [y,x,1]))\n",
        "    \n",
        "    for kp in shaped:\n",
        "        ky, kx, kp_conf = kp\n",
        "        if kp_conf > confidence_threshold:\n",
        "            cv2.circle(frame, (int(kx), int(ky)), 4, (0,255,0), -1) "
      ]
    },
    {
      "cell_type": "code",
      "execution_count": 11,
      "id": "b13daf46",
      "metadata": {},
      "outputs": [],
      "source": [
        "def draw_connections(frame, keypoints, edges, confidence_threshold):\n",
        "    y, x, c = frame.shape\n",
        "    shaped = np.squeeze(np.multiply(keypoints, [y,x,1]))\n",
        "    \n",
        "    for edge, color in edges.items():\n",
        "        p1, p2 = edge\n",
        "        y1, x1, c1 = shaped[p1]\n",
        "        y2, x2, c2 = shaped[p2]\n",
        "        \n",
        "        if (c1 > confidence_threshold) & (c2 > confidence_threshold):      \n",
        "            cv2.line(frame, (int(x1), int(y1)), (int(x2), int(y2)), (0,0,255), 2)"
      ]
    },
    {
      "cell_type": "markdown",
      "id": "284113fa",
      "metadata": {},
      "source": [
        "### MoveNet Thunder"
      ]
    },
    {
      "cell_type": "code",
      "execution_count": 12,
      "id": "e8db25bd",
      "metadata": {},
      "outputs": [
        {
          "ename": "ValueError",
          "evalue": "Could not open 'models/movenet-thunder.tflite'.",
          "output_type": "error",
          "traceback": [
            "\u001b[0;31m---------------------------------------------------------------------------\u001b[0m",
            "\u001b[0;31mValueError\u001b[0m                                Traceback (most recent call last)",
            "Cell \u001b[0;32mIn[12], line 1\u001b[0m\n\u001b[0;32m----> 1\u001b[0m thunder_interpreter \u001b[38;5;241m=\u001b[39m \u001b[43mtf\u001b[49m\u001b[38;5;241;43m.\u001b[39;49m\u001b[43mlite\u001b[49m\u001b[38;5;241;43m.\u001b[39;49m\u001b[43mInterpreter\u001b[49m\u001b[43m(\u001b[49m\u001b[43mmodel_path\u001b[49m\u001b[38;5;241;43m=\u001b[39;49m\u001b[38;5;124;43m'\u001b[39;49m\u001b[38;5;124;43mmodels/movenet-thunder.tflite\u001b[39;49m\u001b[38;5;124;43m'\u001b[39;49m\u001b[43m)\u001b[49m\n\u001b[1;32m      2\u001b[0m thunder_interpreter\u001b[38;5;241m.\u001b[39mallocate_tensors()\n",
            "File \u001b[0;32m~/.local/lib/python3.10/site-packages/tensorflow/lite/python/interpreter.py:464\u001b[0m, in \u001b[0;36mInterpreter.__init__\u001b[0;34m(self, model_path, model_content, experimental_delegates, num_threads, experimental_op_resolver_type, experimental_preserve_all_tensors, experimental_disable_delegate_clustering)\u001b[0m\n\u001b[1;32m    458\u001b[0m custom_op_registerers_by_name \u001b[38;5;241m=\u001b[39m [\n\u001b[1;32m    459\u001b[0m     x \u001b[38;5;28;01mfor\u001b[39;00m x \u001b[38;5;129;01min\u001b[39;00m \u001b[38;5;28mself\u001b[39m\u001b[38;5;241m.\u001b[39m_custom_op_registerers \u001b[38;5;28;01mif\u001b[39;00m \u001b[38;5;28misinstance\u001b[39m(x, \u001b[38;5;28mstr\u001b[39m)\n\u001b[1;32m    460\u001b[0m ]\n\u001b[1;32m    461\u001b[0m custom_op_registerers_by_func \u001b[38;5;241m=\u001b[39m [\n\u001b[1;32m    462\u001b[0m     x \u001b[38;5;28;01mfor\u001b[39;00m x \u001b[38;5;129;01min\u001b[39;00m \u001b[38;5;28mself\u001b[39m\u001b[38;5;241m.\u001b[39m_custom_op_registerers \u001b[38;5;28;01mif\u001b[39;00m \u001b[38;5;129;01mnot\u001b[39;00m \u001b[38;5;28misinstance\u001b[39m(x, \u001b[38;5;28mstr\u001b[39m)\n\u001b[1;32m    463\u001b[0m ]\n\u001b[0;32m--> 464\u001b[0m \u001b[38;5;28mself\u001b[39m\u001b[38;5;241m.\u001b[39m_interpreter \u001b[38;5;241m=\u001b[39m \u001b[43m_interpreter_wrapper\u001b[49m\u001b[38;5;241;43m.\u001b[39;49m\u001b[43mCreateWrapperFromFile\u001b[49m\u001b[43m(\u001b[49m\n\u001b[1;32m    465\u001b[0m \u001b[43m    \u001b[49m\u001b[43mmodel_path\u001b[49m\u001b[43m,\u001b[49m\n\u001b[1;32m    466\u001b[0m \u001b[43m    \u001b[49m\u001b[43mop_resolver_id\u001b[49m\u001b[43m,\u001b[49m\n\u001b[1;32m    467\u001b[0m \u001b[43m    \u001b[49m\u001b[43mcustom_op_registerers_by_name\u001b[49m\u001b[43m,\u001b[49m\n\u001b[1;32m    468\u001b[0m \u001b[43m    \u001b[49m\u001b[43mcustom_op_registerers_by_func\u001b[49m\u001b[43m,\u001b[49m\n\u001b[1;32m    469\u001b[0m \u001b[43m    \u001b[49m\u001b[43mexperimental_preserve_all_tensors\u001b[49m\u001b[43m,\u001b[49m\n\u001b[1;32m    470\u001b[0m \u001b[43m    \u001b[49m\u001b[43mexperimental_disable_delegate_clustering\u001b[49m\u001b[43m,\u001b[49m\n\u001b[1;32m    471\u001b[0m \u001b[43m\u001b[49m\u001b[43m)\u001b[49m\n\u001b[1;32m    472\u001b[0m \u001b[38;5;28;01mif\u001b[39;00m \u001b[38;5;129;01mnot\u001b[39;00m \u001b[38;5;28mself\u001b[39m\u001b[38;5;241m.\u001b[39m_interpreter:\n\u001b[1;32m    473\u001b[0m   \u001b[38;5;28;01mraise\u001b[39;00m \u001b[38;5;167;01mValueError\u001b[39;00m(\u001b[38;5;124m'\u001b[39m\u001b[38;5;124mFailed to open \u001b[39m\u001b[38;5;132;01m{}\u001b[39;00m\u001b[38;5;124m'\u001b[39m\u001b[38;5;241m.\u001b[39mformat(model_path))\n",
            "\u001b[0;31mValueError\u001b[0m: Could not open 'models/movenet-thunder.tflite'."
          ]
        }
      ],
      "source": [
        "thunder_interpreter = tf.lite.Interpreter(model_path='models/movenet-thunder.tflite')\n",
        "thunder_interpreter.allocate_tensors()"
      ]
    },
    {
      "cell_type": "code",
      "execution_count": 6,
      "id": "9977367f",
      "metadata": {},
      "outputs": [
        {
          "ename": "NameError",
          "evalue": "name 'thunder_interpreter' is not defined",
          "output_type": "error",
          "traceback": [
            "\u001b[0;31m---------------------------------------------------------------------------\u001b[0m",
            "\u001b[0;31mNameError\u001b[0m                                 Traceback (most recent call last)",
            "Cell \u001b[0;32mIn[6], line 18\u001b[0m\n\u001b[1;32m     15\u001b[0m input_image \u001b[38;5;241m=\u001b[39m tf\u001b[38;5;241m.\u001b[39mcast(img, dtype\u001b[38;5;241m=\u001b[39mtf\u001b[38;5;241m.\u001b[39mfloat32)\n\u001b[1;32m     17\u001b[0m \u001b[38;5;66;03m# Setup input and output \u001b[39;00m\n\u001b[0;32m---> 18\u001b[0m input_details \u001b[38;5;241m=\u001b[39m \u001b[43mthunder_interpreter\u001b[49m\u001b[38;5;241m.\u001b[39mget_input_details()\n\u001b[1;32m     19\u001b[0m output_details \u001b[38;5;241m=\u001b[39m thunder_interpreter\u001b[38;5;241m.\u001b[39mget_output_details()\n\u001b[1;32m     21\u001b[0m \u001b[38;5;66;03m# Make predictions \u001b[39;00m\n",
            "\u001b[0;31mNameError\u001b[0m: name 'thunder_interpreter' is not defined"
          ]
        }
      ],
      "source": [
        "cap = cv2.VideoCapture(0)\n",
        "\n",
        "prev_frame_time = 0\n",
        "new_frame_time = 0\n",
        "\n",
        "while cap.isOpened():\n",
        "    ret, frame = cap.read()\n",
        "    \n",
        "    if not ret: \n",
        "      break\n",
        "    \n",
        "    # Reshape image\n",
        "    img = frame.copy()\n",
        "    img = tf.image.resize_with_pad(np.expand_dims(img, axis=0), 256,256)\n",
        "    input_image = tf.cast(img, dtype=tf.float32)\n",
        "    \n",
        "    # Setup input and output \n",
        "    input_details = thunder_interpreter.get_input_details()\n",
        "    output_details = thunder_interpreter.get_output_details()\n",
        "    \n",
        "    # Make predictions \n",
        "    thunder_interpreter.set_tensor(input_details[0]['index'], np.array(input_image))\n",
        "    thunder_interpreter.invoke()\n",
        "    keypoints_with_scores = thunder_interpreter.get_tensor(output_details[0]['index'])\n",
        "    \n",
        "    # Calculate frame rate\n",
        "    new_frame_time = time.time() \n",
        "    \n",
        "    fps = 1/(new_frame_time-prev_frame_time) \n",
        "    prev_frame_time = new_frame_time \n",
        "    fps = str(int(fps)) \n",
        "    \n",
        "    ram_usage = psutil.virtual_memory().percent\n",
        "    cpu_usage = psutil.cpu_percent()\n",
        "\n",
        "    # putting the FPS count on the frame \n",
        "    cv2.putText(frame, 'FPS: {}'.format(fps), (0, 30), cv2.FONT_HERSHEY_SIMPLEX, 0.8, (100, 255, 0), 2) \n",
        "    \n",
        "    # Display the RAM usage\n",
        "    cv2.putText(frame, f\"RAM Usage: {ram_usage}%\", (0, 60), cv2.FONT_HERSHEY_SIMPLEX, 0.8, (100, 255, 0), 2)\n",
        "    \n",
        "    # Display CPU usage\n",
        "    cv2.putText(frame, f\"CPU Usage: {cpu_usage}%\", (0, 90), cv2.FONT_HERSHEY_SIMPLEX, 0.8, (100,255,0), 2)\n",
        "\n",
        "  \n",
        "    # Rendering     \n",
        "    draw_connections(frame, keypoints_with_scores, EDGES, 0.4)\n",
        "    draw_keypoints(frame, keypoints_with_scores, 0.4)\n",
        "    \n",
        "    cv2.imshow('MoveNet Thunder', frame)\n",
        "\n",
        "    if cv2.waitKey(10) & 0xFF==ord('q'):\n",
        "        break\n",
        "        \n",
        "cap.release()\n",
        "cv2.destroyAllWindows()"
      ]
    },
    {
      "cell_type": "markdown",
      "id": "25e9921b",
      "metadata": {},
      "source": [
        "### MoveNet Lightning"
      ]
    },
    {
      "cell_type": "code",
      "execution_count": 7,
      "id": "8645a96b",
      "metadata": {},
      "outputs": [
        {
          "ename": "ValueError",
          "evalue": "Could not open 'models/movenet-lightning.tflite'.",
          "output_type": "error",
          "traceback": [
            "\u001b[0;31m---------------------------------------------------------------------------\u001b[0m",
            "\u001b[0;31mValueError\u001b[0m                                Traceback (most recent call last)",
            "Cell \u001b[0;32mIn[7], line 1\u001b[0m\n\u001b[0;32m----> 1\u001b[0m lightning_interpreter \u001b[38;5;241m=\u001b[39m \u001b[43mtf\u001b[49m\u001b[38;5;241;43m.\u001b[39;49m\u001b[43mlite\u001b[49m\u001b[38;5;241;43m.\u001b[39;49m\u001b[43mInterpreter\u001b[49m\u001b[43m(\u001b[49m\u001b[43mmodel_path\u001b[49m\u001b[38;5;241;43m=\u001b[39;49m\u001b[38;5;124;43m'\u001b[39;49m\u001b[38;5;124;43mmodels/movenet-lightning.tflite\u001b[39;49m\u001b[38;5;124;43m'\u001b[39;49m\u001b[43m)\u001b[49m\n\u001b[1;32m      2\u001b[0m lightning_interpreter\u001b[38;5;241m.\u001b[39mallocate_tensors()\n",
            "File \u001b[0;32m~/.local/lib/python3.10/site-packages/tensorflow/lite/python/interpreter.py:464\u001b[0m, in \u001b[0;36mInterpreter.__init__\u001b[0;34m(self, model_path, model_content, experimental_delegates, num_threads, experimental_op_resolver_type, experimental_preserve_all_tensors, experimental_disable_delegate_clustering)\u001b[0m\n\u001b[1;32m    458\u001b[0m custom_op_registerers_by_name \u001b[38;5;241m=\u001b[39m [\n\u001b[1;32m    459\u001b[0m     x \u001b[38;5;28;01mfor\u001b[39;00m x \u001b[38;5;129;01min\u001b[39;00m \u001b[38;5;28mself\u001b[39m\u001b[38;5;241m.\u001b[39m_custom_op_registerers \u001b[38;5;28;01mif\u001b[39;00m \u001b[38;5;28misinstance\u001b[39m(x, \u001b[38;5;28mstr\u001b[39m)\n\u001b[1;32m    460\u001b[0m ]\n\u001b[1;32m    461\u001b[0m custom_op_registerers_by_func \u001b[38;5;241m=\u001b[39m [\n\u001b[1;32m    462\u001b[0m     x \u001b[38;5;28;01mfor\u001b[39;00m x \u001b[38;5;129;01min\u001b[39;00m \u001b[38;5;28mself\u001b[39m\u001b[38;5;241m.\u001b[39m_custom_op_registerers \u001b[38;5;28;01mif\u001b[39;00m \u001b[38;5;129;01mnot\u001b[39;00m \u001b[38;5;28misinstance\u001b[39m(x, \u001b[38;5;28mstr\u001b[39m)\n\u001b[1;32m    463\u001b[0m ]\n\u001b[0;32m--> 464\u001b[0m \u001b[38;5;28mself\u001b[39m\u001b[38;5;241m.\u001b[39m_interpreter \u001b[38;5;241m=\u001b[39m \u001b[43m_interpreter_wrapper\u001b[49m\u001b[38;5;241;43m.\u001b[39;49m\u001b[43mCreateWrapperFromFile\u001b[49m\u001b[43m(\u001b[49m\n\u001b[1;32m    465\u001b[0m \u001b[43m    \u001b[49m\u001b[43mmodel_path\u001b[49m\u001b[43m,\u001b[49m\n\u001b[1;32m    466\u001b[0m \u001b[43m    \u001b[49m\u001b[43mop_resolver_id\u001b[49m\u001b[43m,\u001b[49m\n\u001b[1;32m    467\u001b[0m \u001b[43m    \u001b[49m\u001b[43mcustom_op_registerers_by_name\u001b[49m\u001b[43m,\u001b[49m\n\u001b[1;32m    468\u001b[0m \u001b[43m    \u001b[49m\u001b[43mcustom_op_registerers_by_func\u001b[49m\u001b[43m,\u001b[49m\n\u001b[1;32m    469\u001b[0m \u001b[43m    \u001b[49m\u001b[43mexperimental_preserve_all_tensors\u001b[49m\u001b[43m,\u001b[49m\n\u001b[1;32m    470\u001b[0m \u001b[43m    \u001b[49m\u001b[43mexperimental_disable_delegate_clustering\u001b[49m\u001b[43m,\u001b[49m\n\u001b[1;32m    471\u001b[0m \u001b[43m\u001b[49m\u001b[43m)\u001b[49m\n\u001b[1;32m    472\u001b[0m \u001b[38;5;28;01mif\u001b[39;00m \u001b[38;5;129;01mnot\u001b[39;00m \u001b[38;5;28mself\u001b[39m\u001b[38;5;241m.\u001b[39m_interpreter:\n\u001b[1;32m    473\u001b[0m   \u001b[38;5;28;01mraise\u001b[39;00m \u001b[38;5;167;01mValueError\u001b[39;00m(\u001b[38;5;124m'\u001b[39m\u001b[38;5;124mFailed to open \u001b[39m\u001b[38;5;132;01m{}\u001b[39;00m\u001b[38;5;124m'\u001b[39m\u001b[38;5;241m.\u001b[39mformat(model_path))\n",
            "\u001b[0;31mValueError\u001b[0m: Could not open 'models/movenet-lightning.tflite'."
          ]
        }
      ],
      "source": [
        "lightning_interpreter = tf.lite.Interpreter(model_path='models/movenet-lightning.tflite')\n",
        "lightning_interpreter.allocate_tensors()"
      ]
    },
    {
      "cell_type": "code",
      "execution_count": 13,
      "id": "5d416bbf",
      "metadata": {},
      "outputs": [
        {
          "name": "stderr",
          "output_type": "stream",
          "text": [
            "[ WARN:0@30.386] global cap_v4l.cpp:997 open VIDEOIO(V4L2:/dev/video0): can't open camera by index\n",
            "[ERROR:0@30.387] global obsensor_uvc_stream_channel.cpp:159 getStreamChannelGroup Camera index out of range\n"
          ]
        }
      ],
      "source": [
        "cap = cv2.VideoCapture(0)\n",
        "\n",
        "prev_frame_time = 0\n",
        "new_frame_time = 0\n",
        "\n",
        "while cap.isOpened():\n",
        "    ret, frame = cap.read()\n",
        "    \n",
        "    if not ret: \n",
        "      break\n",
        "    \n",
        "    # Reshape image\n",
        "    img = frame.copy()\n",
        "    img = tf.image.resize_with_pad(np.expand_dims(img, axis=0), 192,192)\n",
        "    input_image = tf.cast(img, dtype=tf.float32)\n",
        "    \n",
        "    # Setup input and output \n",
        "    input_details = lightning_interpreter.get_input_details()\n",
        "    output_details = lightning_interpreter.get_output_details()\n",
        "    \n",
        "    # Make predictions \n",
        "    lightning_interpreter.set_tensor(input_details[0]['index'], np.array(input_image))\n",
        "    lightning_interpreter.invoke()\n",
        "    keypoints_with_scores = lightning_interpreter.get_tensor(output_details[0]['index'])\n",
        "    \n",
        "      # Calculate frame rate\n",
        "    new_frame_time = time.time() \n",
        "    \n",
        "    fps = 1/(new_frame_time-prev_frame_time) \n",
        "    prev_frame_time = new_frame_time \n",
        "    fps = str(int(fps)) \n",
        "    \n",
        "    ram_usage = psutil.virtual_memory().percent\n",
        "    cpu_usage = psutil.cpu_percent()\n",
        "\n",
        "    # putting the FPS count on the frame \n",
        "    cv2.putText(frame, 'FPS: {}'.format(fps), (0, 30), cv2.FONT_HERSHEY_SIMPLEX, 0.8, (100, 255, 0), 2) \n",
        "    \n",
        "    # Display the RAM usage\n",
        "    cv2.putText(frame, f\"RAM Usage: {ram_usage}%\", (0, 60), cv2.FONT_HERSHEY_SIMPLEX, 0.8, (100, 255, 0), 2)\n",
        "    \n",
        "    # Display CPU usage\n",
        "    cv2.putText(frame, f\"CPU Usage: {cpu_usage}%\", (0, 90), cv2.FONT_HERSHEY_SIMPLEX, 0.8, (100,255,0), 2)\n",
        "\n",
        "  \n",
        "    # Rendering     \n",
        "    draw_connections(frame, keypoints_with_scores, EDGES, 0.4)\n",
        "    draw_keypoints(frame, keypoints_with_scores, 0.4)\n",
        "    \n",
        "    \n",
        "    cv2.imshow('MoveNet Lightning', frame)\n",
        "    \n",
        "    if cv2.waitKey(10) & 0xFF==ord('q'):\n",
        "        break\n",
        "        \n",
        "cap.release()\n",
        "cv2.destroyAllWindows()"
      ]
    },
    {
      "cell_type": "markdown",
      "id": "66477acd",
      "metadata": {},
      "source": [
        "# Human Pose Estimation using MediaPipe (MP Pose)"
      ]
    },
    {
      "cell_type": "code",
      "execution_count": 14,
      "id": "192897d0",
      "metadata": {
        "id": "192897d0"
      },
      "outputs": [
        {
          "name": "stderr",
          "output_type": "stream",
          "text": [
            "WARNING: All log messages before absl::InitializeLog() is called are written to STDERR\n",
            "I0000 00:00:1714120593.639821  116205 gl_context_egl.cc:85] Successfully initialized EGL. Major : 1 Minor: 5\n",
            "I0000 00:00:1714120593.642711  116889 gl_context.cc:344] GL version: 3.2 (OpenGL ES 3.2 Mesa 23.2.1-1ubuntu3.1~22.04.2), renderer: Mesa Intel(R) UHD Graphics 620 (KBL GT2)\n",
            "INFO: Created TensorFlow Lite XNNPACK delegate for CPU.\n"
          ]
        }
      ],
      "source": [
        "# Initialize MediaPipe pose model\n",
        "mp_pose = mp.solutions.pose\n",
        "\n",
        "# Supported Mediapipe visualization tools\n",
        "mp_drawing = mp.solutions.drawing_utils\n",
        "\n",
        "pose = mp_pose.Pose(static_image_mode=False, min_detection_confidence=0.5, min_tracking_confidence=0.5)\n",
        "\n",
        "# Initialize Haar cascade classifier for face detection\n",
        "face_cascade = cv2.CascadeClassifier(cv2.data.haarcascades + 'haarcascade_frontalface_default.xml')"
      ]
    },
    {
      "cell_type": "code",
      "execution_count": 15,
      "id": "31ed7734",
      "metadata": {
        "id": "31ed7734"
      },
      "outputs": [],
      "source": [
        "# Function to perform quality control checks and overlay text boxes and pose landmarks\n",
        "def perform_quality_control(frame):\n",
        "    # Convert frame to RGB\n",
        "    rgb_frame = cv2.cvtColor(frame, cv2.COLOR_BGR2RGB)\n",
        "\n",
        "    # Perform pose estimation with MediaPipe\n",
        "    results = pose.process(rgb_frame)\n",
        "\n",
        "    # Check if body is present\n",
        "    is_body_present = results.pose_landmarks is not None\n",
        "\n",
        "    # Perform face detection with Haar cascade classifier\n",
        "    gray = cv2.cvtColor(frame, cv2.COLOR_BGR2GRAY)\n",
        "    faces = face_cascade.detectMultiScale(gray, 1.3, 5)\n",
        "    is_face_present = len(faces) > 0\n",
        "\n",
        "    # Check for proper lighting\n",
        "    mean_intensity = cv2.mean(gray)[0]  # Mean intensity of the frame\n",
        "    is_proper_lighting = mean_intensity > 100  # Adjust this threshold as needed\n",
        "\n",
        "    # Overlay text boxes on the frame\n",
        "    font = cv2.FONT_HERSHEY_SIMPLEX\n",
        "    font_scale = 0.8\n",
        "    font_color = (100, 255, 0)\n",
        "    line_thickness = 1\n",
        "\n",
        "    # Display face detection result\n",
        "    face_text = \"Face Present\" if is_face_present else \"Face Not Present\"\n",
        "    cv2.putText(frame, face_text, (440, 20), font, font_scale, font_color, line_thickness)\n",
        "\n",
        "    # Display body detection result\n",
        "    body_text = \"Body Present\" if is_body_present else \"Body Not Present\"\n",
        "    cv2.putText(frame, body_text, (440, 50), font, font_scale, font_color, line_thickness)\n",
        "\n",
        "    # Display proper lighting check result\n",
        "    lighting_text = \"Proper Lighting\" if is_proper_lighting else \"Low Lighting\"\n",
        "    cv2.putText(frame, lighting_text, (440, 80), font, font_scale, font_color, line_thickness)\n",
        "    \n",
        "  \n",
        "    # Overlay pose landmarks on the frame\n",
        "    if results.pose_landmarks is not None:\n",
        "        mp_drawing.draw_landmarks(frame, results.pose_landmarks, mp_pose.POSE_CONNECTIONS)\n",
        "\n",
        "    return frame"
      ]
    },
    {
      "cell_type": "code",
      "execution_count": 16,
      "id": "f7bb737a",
      "metadata": {
        "id": "f7bb737a"
      },
      "outputs": [
        {
          "name": "stderr",
          "output_type": "stream",
          "text": [
            "qt.qpa.plugin: Could not find the Qt platform plugin \"wayland\" in \"/home/dell/.local/lib/python3.10/site-packages/cv2/qt/plugins\"\n"
          ]
        }
      ],
      "source": [
        "# Start camera capture\n",
        "cap = cv2.VideoCapture(0)\n",
        "\n",
        "prev_frame_time = 0\n",
        "new_frame_time = 0\n",
        "\n",
        "# Profile the perform_quality_control function\n",
        "profiler = LineProfiler()\n",
        "profiler.add_function(perform_quality_control)\n",
        "\n",
        "# Loop to capture frames and perform quality control checks\n",
        "while True:\n",
        "    # Read frame from the camera\n",
        "    ret, frame = cap.read()\n",
        "    if not ret:\n",
        "        print(\"Error: Failed to capture frame.\")\n",
        "        break\n",
        "\n",
        "    profiler.enable_by_count()\n",
        "    frame_with_text = perform_quality_control(frame)\n",
        "    profiler.disable_by_count()\n",
        "\n",
        "    # Calculate frame rate\n",
        "    new_frame_time = time.time() \n",
        "    \n",
        "    fps = 1/(new_frame_time-prev_frame_time) \n",
        "    prev_frame_time = new_frame_time \n",
        "    fps = str(int(fps)) \n",
        "    \n",
        "    ram_usage = psutil.virtual_memory().percent\n",
        "    cpu_usage = psutil.cpu_percent()\n",
        "\n",
        "    # putting the FPS count on the frame \n",
        "    cv2.putText(frame, 'FPS: {}'.format(fps), (0, 30), cv2.FONT_HERSHEY_SIMPLEX, 0.8, (100, 255, 0), 2) \n",
        "    \n",
        "    # Display the RAM usage\n",
        "    cv2.putText(frame, f\"RAM Usage: {ram_usage}%\", (0, 60), cv2.FONT_HERSHEY_SIMPLEX, 0.8, (100, 255, 0), 2)\n",
        "    \n",
        "    # Display CPU usage\n",
        "    cv2.putText(frame, f\"CPU Usage: {cpu_usage}%\", (0, 90), cv2.FONT_HERSHEY_SIMPLEX, 0.8, (100,255,0), 2)\n",
        "\n",
        "  \n",
        "    # Display the output frame\n",
        "    cv2.imshow('Media Pipe', frame)\n",
        "    \n",
        "    # Check for 'q' key to quit\n",
        "    if cv2.waitKey(1) & 0xFF == ord('q'):\n",
        "        break\n",
        "\n",
        "# Release resources\n",
        "cap.release()\n",
        "cv2.destroyAllWindows()"
      ]
    }
  ],
  "metadata": {
    "colab": {
      "provenance": []
    },
    "kernelspec": {
      "display_name": "Python 3 (ipykernel)",
      "language": "python",
      "name": "python3"
    },
    "language_info": {
      "codemirror_mode": {
        "name": "ipython",
        "version": 3
      },
      "file_extension": ".py",
      "mimetype": "text/x-python",
      "name": "python",
      "nbconvert_exporter": "python",
      "pygments_lexer": "ipython3",
      "version": "3.10.12"
    }
  },
  "nbformat": 4,
  "nbformat_minor": 5
}
